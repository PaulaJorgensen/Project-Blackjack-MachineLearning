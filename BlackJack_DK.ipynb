{
 "cells": [
  {
   "cell_type": "code",
   "execution_count": 1,
   "metadata": {},
   "outputs": [],
   "source": [
    "# Dependencies and Setup\n",
    "import matplotlib.pyplot as plt\n",
    "import pandas as pd\n",
    "import numpy as np\n",
    "import requests\n",
    "import time\n",
    "import requests\n",
    "import json"
   ]
  },
  {
   "cell_type": "code",
   "execution_count": 2,
   "metadata": {},
   "outputs": [
    {
     "data": {
      "text/html": [
       "<div>\n",
       "<style scoped>\n",
       "    .dataframe tbody tr th:only-of-type {\n",
       "        vertical-align: middle;\n",
       "    }\n",
       "\n",
       "    .dataframe tbody tr th {\n",
       "        vertical-align: top;\n",
       "    }\n",
       "\n",
       "    .dataframe thead th {\n",
       "        text-align: right;\n",
       "    }\n",
       "</style>\n",
       "<table border=\"1\" class=\"dataframe\">\n",
       "  <thead>\n",
       "    <tr style=\"text-align: right;\">\n",
       "      <th></th>\n",
       "      <th>SeatNumber</th>\n",
       "      <th>WinLoss</th>\n",
       "    </tr>\n",
       "  </thead>\n",
       "  <tbody>\n",
       "    <tr>\n",
       "      <th>0</th>\n",
       "      <td>Player1</td>\n",
       "      <td>Loss</td>\n",
       "    </tr>\n",
       "    <tr>\n",
       "      <th>1</th>\n",
       "      <td>Player2</td>\n",
       "      <td>Win</td>\n",
       "    </tr>\n",
       "    <tr>\n",
       "      <th>2</th>\n",
       "      <td>Player3</td>\n",
       "      <td>Loss</td>\n",
       "    </tr>\n",
       "    <tr>\n",
       "      <th>3</th>\n",
       "      <td>Player4</td>\n",
       "      <td>Loss</td>\n",
       "    </tr>\n",
       "    <tr>\n",
       "      <th>4</th>\n",
       "      <td>Player5</td>\n",
       "      <td>Loss</td>\n",
       "    </tr>\n",
       "  </tbody>\n",
       "</table>\n",
       "</div>"
      ],
      "text/plain": [
       "  SeatNumber WinLoss\n",
       "0    Player1    Loss\n",
       "1    Player2     Win\n",
       "2    Player3    Loss\n",
       "3    Player4    Loss\n",
       "4    Player5    Loss"
      ]
     },
     "execution_count": 2,
     "metadata": {},
     "output_type": "execute_result"
    }
   ],
   "source": [
    "file = \"/Users/deankleto/Desktop/Project_4/blkjckhands.csv\"\n",
    "\n",
    "\n",
    "BlackJack = pd.read_csv(file)\n",
    "df1 = pd.DataFrame(BlackJack)\n",
    "df1 = df1[[\"PlayerNo\",\"winloss\"]]\n",
    "df1 = df1.rename(columns={\"PlayerNo\": \"SeatNumber\",\n",
    "                                 \"winloss\": \"WinLoss\"})\n",
    "\n",
    "df1.head()"
   ]
  },
  {
   "cell_type": "code",
   "execution_count": 3,
   "metadata": {},
   "outputs": [],
   "source": [
    "# df2 = df1.sort_values('WinLoss')\n",
    "# df2.head()"
   ]
  },
  {
   "cell_type": "code",
   "execution_count": 4,
   "metadata": {},
   "outputs": [],
   "source": [
    "# location_df = df2['WinLoss'].apply(lambda x: pd.Series(x.split('Loss')))\n",
    "# location_df.head()"
   ]
  },
  {
   "cell_type": "code",
   "execution_count": 7,
   "metadata": {},
   "outputs": [],
   "source": [
    "# pd.DataFrame(group.describe().rename(columns={'score':name}).squeeze()\n",
    "#                          for name, group in df1.groupby('name'))"
   ]
  },
  {
   "cell_type": "code",
   "execution_count": 8,
   "metadata": {},
   "outputs": [
    {
     "data": {
      "text/plain": [
       "                 SeatNumber\n",
       "WinLoss  count   Player1       150000\n",
       "                 Player2       150000\n",
       "                 Player3       150000\n",
       "                 Player4       150000\n",
       "                 Player5       150000\n",
       "                 Player6       150000\n",
       "         unique  Player1            3\n",
       "                 Player2            3\n",
       "                 Player3            3\n",
       "                 Player4            3\n",
       "                 Player5            3\n",
       "                 Player6            3\n",
       "         top     Player1         Loss\n",
       "                 Player2         Loss\n",
       "                 Player3         Loss\n",
       "                 Player4         Loss\n",
       "                 Player5         Loss\n",
       "                 Player6         Loss\n",
       "         freq    Player1        71506\n",
       "                 Player2        71701\n",
       "                 Player3        71869\n",
       "                 Player4        71748\n",
       "                 Player5        71663\n",
       "                 Player6        71334\n",
       "dtype: object"
      ]
     },
     "execution_count": 8,
     "metadata": {},
     "output_type": "execute_result"
    }
   ],
   "source": [
    "df2 = df1.groupby(['SeatNumber']).describe().unstack(0)\n",
    "df3=df2.transpose()\n",
    "#print(df2)\n",
    "#df3 = df2.describe()\n",
    "df3_f=df3.transpose()\n",
    "df3_f[['WinLoss']]"
   ]
  },
  {
   "cell_type": "code",
   "execution_count": 9,
   "metadata": {},
   "outputs": [
    {
     "name": "stdout",
     "output_type": "stream",
     "text": [
      "                 SeatNumber\n",
      "WinLoss  count   Player1       150000\n",
      "                 Player2       150000\n",
      "                 Player3       150000\n",
      "                 Player4       150000\n",
      "                 Player5       150000\n",
      "                 Player6       150000\n",
      "         unique  Player1            3\n",
      "                 Player2            3\n",
      "                 Player3            3\n",
      "                 Player4            3\n",
      "                 Player5            3\n",
      "                 Player6            3\n",
      "         top     Player1         Loss\n",
      "                 Player2         Loss\n",
      "                 Player3         Loss\n",
      "                 Player4         Loss\n",
      "                 Player5         Loss\n",
      "                 Player6         Loss\n",
      "         freq    Player1        71506\n",
      "                 Player2        71701\n",
      "                 Player3        71869\n",
      "                 Player4        71748\n",
      "                 Player5        71663\n",
      "                 Player6        71334\n",
      "dtype: object\n"
     ]
    }
   ],
   "source": [
    "print(df3[['WinLoss']])"
   ]
  },
  {
   "cell_type": "code",
   "execution_count": 11,
   "metadata": {},
   "outputs": [
    {
     "data": {
      "text/html": [
       "<div>\n",
       "<style scoped>\n",
       "    .dataframe tbody tr th:only-of-type {\n",
       "        vertical-align: middle;\n",
       "    }\n",
       "\n",
       "    .dataframe tbody tr th {\n",
       "        vertical-align: top;\n",
       "    }\n",
       "\n",
       "    .dataframe thead th {\n",
       "        text-align: right;\n",
       "    }\n",
       "</style>\n",
       "<table border=\"1\" class=\"dataframe\">\n",
       "  <thead>\n",
       "    <tr style=\"text-align: right;\">\n",
       "      <th></th>\n",
       "      <th>Seat Number</th>\n",
       "      <th>Weighted Count</th>\n",
       "      <th>Weighted Average</th>\n",
       "    </tr>\n",
       "  </thead>\n",
       "  <tbody>\n",
       "    <tr>\n",
       "      <th>5</th>\n",
       "      <td>Seat 6</td>\n",
       "      <td>16</td>\n",
       "      <td>0.762</td>\n",
       "    </tr>\n",
       "    <tr>\n",
       "      <th>0</th>\n",
       "      <td>Seat 1</td>\n",
       "      <td>15</td>\n",
       "      <td>0.714</td>\n",
       "    </tr>\n",
       "    <tr>\n",
       "      <th>3</th>\n",
       "      <td>Seat 4</td>\n",
       "      <td>10</td>\n",
       "      <td>0.476</td>\n",
       "    </tr>\n",
       "    <tr>\n",
       "      <th>1</th>\n",
       "      <td>Seat 2</td>\n",
       "      <td>9</td>\n",
       "      <td>0.429</td>\n",
       "    </tr>\n",
       "    <tr>\n",
       "      <th>4</th>\n",
       "      <td>Seat 5</td>\n",
       "      <td>9</td>\n",
       "      <td>0.429</td>\n",
       "    </tr>\n",
       "    <tr>\n",
       "      <th>2</th>\n",
       "      <td>Seat 3</td>\n",
       "      <td>4</td>\n",
       "      <td>0.190</td>\n",
       "    </tr>\n",
       "  </tbody>\n",
       "</table>\n",
       "</div>"
      ],
      "text/plain": [
       "  Seat Number  Weighted Count  Weighted Average\n",
       "5      Seat 6              16             0.762\n",
       "0      Seat 1              15             0.714\n",
       "3      Seat 4              10             0.476\n",
       "1      Seat 2               9             0.429\n",
       "4      Seat 5               9             0.429\n",
       "2      Seat 3               4             0.190"
      ]
     },
     "execution_count": 11,
     "metadata": {},
     "output_type": "execute_result"
    }
   ],
   "source": [
    "file = \"/Users/deankleto/Desktop/Project_4/weighted_seat_rankings.csv\"\n",
    "\n",
    "\n",
    "rated_seats = pd.read_csv(file)\n",
    "rated_seats = pd.DataFrame(rated_seats).sort_values('Weighted Count', ascending=False)\n",
    "                           \n",
    "\n",
    "rated_seats"
   ]
  },
  {
   "cell_type": "code",
   "execution_count": 57,
   "metadata": {},
   "outputs": [
    {
     "data": {
      "image/png": "[encoded data removed]",
      "text/plain": [
       "<Figure size 1080x720 with 1 Axes>"
      ]
     },
     "metadata": {
      "needs_background": "light"
     },
     "output_type": "display_data"
    }
   ],
   "source": [
    "#Weighted Average Chart\n",
    "import seaborn as sns\n",
    "\n",
    "%matplotlib inline\n",
    "\n",
    "plt.figure(figsize=(15, 10))\n",
    "plt.title(\"Weighted Average of Seat Ranking\")\n",
    "\n",
    "\n",
    "sns.barplot(x='Seat Number', y='Weighted Average', data=rated_seats, estimator=lambda x: sum(x)*100.0/len(x))\n",
    "\n",
    "plt.savefig('Seat Averages.png')"
   ]
  },
  {
   "cell_type": "code",
   "execution_count": 58,
   "metadata": {},
   "outputs": [
    {
     "data": {
      "image/png": "[encoded data removed]",
      "text/plain": [
       "<Figure size 1080x720 with 1 Axes>"
      ]
     },
     "metadata": {
      "needs_background": "light"
     },
     "output_type": "display_data"
    }
   ],
   "source": [
    "#Weighted Count Chart\n",
    "\n",
    "plt.figure(figsize=(15, 10))\n",
    "plt.title(\"Weighted Count of Seat Ranking\")\n",
    "\n",
    "\n",
    "sns.barplot(x='Seat Number', y='Weighted Count', data=rated_seats, estimator=lambda x: sum(x))\n",
    "\n",
    "plt.savefig('Seat Counts.png')"
   ]
  },
  {
   "cell_type": "code",
   "execution_count": null,
   "metadata": {},
   "outputs": [],
   "source": []
  },
  {
   "cell_type": "code",
   "execution_count": null,
   "metadata": {},
   "outputs": [],
   "source": []
  },
  {
   "cell_type": "code",
   "execution_count": null,
   "metadata": {},
   "outputs": [],
   "source": []
  },
  {
   "cell_type": "code",
   "execution_count": 49,
   "metadata": {},
   "outputs": [
    {
     "data": {
      "image/png": "[encoded data removed]",
      "text/plain": [
       "<Figure size 1080x720 with 1 Axes>"
      ]
     },
     "metadata": {
      "needs_background": "light"
     },
     "output_type": "display_data"
    }
   ],
   "source": [
    "from matplotlib.pyplot import show\n",
    "import seaborn as sns\n",
    "\n",
    "%matplotlib inline\n",
    "\n",
    "plt.figure(figsize=(15, 10))\n",
    "#ax.set_title(\"Weighted Averages\", fontsize=18)\n",
    "\n",
    "sns.barplot(x='Seat Number', y='Weighted Average', data=rated_seats, estimator=lambda x: sum(x)*100.0/len(x))\n",
    "# total = float(len(rated_seats))\n",
    "# for p in ax.patches:\n",
    "#     height = p.get_height()\n",
    "#     ax.text(p.get_x()+p.get_width()/2.,\n",
    "#             height + 3,\n",
    "#             '{:1.2f}'.format(height/total),\n",
    "#             ha=\"center\") \n",
    "\n",
    "def autolabel(rects):\n",
    "    \"\"\"Attach a text label above each bar in *rects*, displaying its height.\"\"\"\n",
    "    for rect in rects:\n",
    "        height = rect.get_height()\n",
    "        ax.annotate('{}'.format(height),\n",
    "                    xy=(rect.get_x() + rect.get_width() / 2, height),\n",
    "                    xytext=(0, 3),  # 3 points vertical offset\n",
    "                    textcoords=\"offset points\",\n",
    "                    ha='center', va='bottom')    \n",
    "    \n",
    "show()\n",
    "\n",
    "\n",
    "\n",
    "\n",
    "# sns.set(style=\"darkgrid\")\n",
    "# titanic = sns.load_dataset(\"titanic\")\n",
    "# total = float(len(titanic)) # one person per row \n",
    "# #ax = sns.barplot(x=\"class\", hue=\"who\", data=titanic)\n",
    "# ax = sns.countplot(x=\"class\", hue=\"who\", data=titanic) # for Seaborn version 0.7 and more\n",
    "# for p in ax.patches:\n",
    "#     height = p.get_height()\n",
    "#     ax.text(p.get_x()+p.get_width()/2.,\n",
    "#             height + 3,\n",
    "#             '{:1.2f}'.format(height/total),\n",
    "#             ha=\"center\") \n",
    "# show()"
   ]
  },
  {
   "cell_type": "code",
   "execution_count": 18,
   "metadata": {},
   "outputs": [
    {
     "data": {
      "text/html": [
       "<div>\n",
       "<style scoped>\n",
       "    .dataframe tbody tr th:only-of-type {\n",
       "        vertical-align: middle;\n",
       "    }\n",
       "\n",
       "    .dataframe tbody tr th {\n",
       "        vertical-align: top;\n",
       "    }\n",
       "\n",
       "    .dataframe thead th {\n",
       "        text-align: right;\n",
       "    }\n",
       "</style>\n",
       "<table border=\"1\" class=\"dataframe\">\n",
       "  <thead>\n",
       "    <tr style=\"text-align: right;\">\n",
       "      <th></th>\n",
       "      <th>Seat Number</th>\n",
       "      <th>Weighted Count</th>\n",
       "      <th>Weighted Average</th>\n",
       "    </tr>\n",
       "  </thead>\n",
       "  <tbody>\n",
       "    <tr>\n",
       "      <th>0</th>\n",
       "      <td>Seat 1</td>\n",
       "      <td>15</td>\n",
       "      <td>0.714</td>\n",
       "    </tr>\n",
       "    <tr>\n",
       "      <th>1</th>\n",
       "      <td>Seat 2</td>\n",
       "      <td>9</td>\n",
       "      <td>0.429</td>\n",
       "    </tr>\n",
       "    <tr>\n",
       "      <th>2</th>\n",
       "      <td>Seat 3</td>\n",
       "      <td>4</td>\n",
       "      <td>0.190</td>\n",
       "    </tr>\n",
       "    <tr>\n",
       "      <th>3</th>\n",
       "      <td>Seat 4</td>\n",
       "      <td>10</td>\n",
       "      <td>0.476</td>\n",
       "    </tr>\n",
       "    <tr>\n",
       "      <th>4</th>\n",
       "      <td>Seat 5</td>\n",
       "      <td>9</td>\n",
       "      <td>0.429</td>\n",
       "    </tr>\n",
       "    <tr>\n",
       "      <th>5</th>\n",
       "      <td>Seat 6</td>\n",
       "      <td>16</td>\n",
       "      <td>0.762</td>\n",
       "    </tr>\n",
       "  </tbody>\n",
       "</table>\n",
       "</div>"
      ],
      "text/plain": [
       "  Seat Number  Weighted Count  Weighted Average\n",
       "0      Seat 1              15             0.714\n",
       "1      Seat 2               9             0.429\n",
       "2      Seat 3               4             0.190\n",
       "3      Seat 4              10             0.476\n",
       "4      Seat 5               9             0.429\n",
       "5      Seat 6              16             0.762"
      ]
     },
     "execution_count": 18,
     "metadata": {},
     "output_type": "execute_result"
    }
   ],
   "source": [
    "import numpy as np\n",
    "import pandas as pd\n",
    "import matplotlib.pyplot as plt\n",
    "plt.style.use('ggplot')\n",
    "%matplotlib inline\n",
    "\n",
    "# set jupyter's max row display\n",
    "pd.set_option('display.max_row', 1000)\n",
    "\n",
    "# set jupyter's max column width to 50\n",
    "pd.set_option('display.max_columns', 50)\n",
    "\n",
    "# Load the dataset\n",
    "data = pd.read_csv(file)\n",
    "data"
   ]
  },
  {
   "cell_type": "code",
   "execution_count": 19,
   "metadata": {},
   "outputs": [
    {
     "data": {
      "image/png": "[encoded data removed]",
      "text/plain": [
       "<Figure size 720x504 with 1 Axes>"
      ]
     },
     "metadata": {
      "needs_background": "light"
     },
     "output_type": "display_data"
    }
   ],
   "source": [
    "ax = data['Weighted Average'].value_counts().plot(kind='barh', figsize=(10,7),\n",
    "                                        color=\"coral\", fontsize=13);\n",
    "ax.set_alpha(0.8)\n",
    "ax.set_title(\"Weighted Averages\", fontsize=18)\n",
    "ax.set_xlabel(\"Seat Number\", fontsize=18);\n",
    "ax.set_xticks([0, 5, 10, 15, 20])\n",
    "\n",
    "# create a list to collect the plt.patches data\n",
    "totals = []\n",
    "\n",
    "# find the values and append to list\n",
    "for i in ax.patches:\n",
    "    totals.append(i.get_width())\n",
    "\n",
    "# set individual bar lables using above list\n",
    "total = sum(totals)\n",
    "\n",
    "# set individual bar lables using above list\n",
    "for i in ax.patches:\n",
    "    # get_width pulls left or right; get_y pushes up or down\n",
    "    ax.text(i.get_width()+.3, i.get_y()+.38, \\\n",
    "            str(round((i.get_width()/total)*100, 2))+'%', fontsize=15,\n",
    "color='dimgrey')\n",
    "\n",
    "# invert for largest on top \n",
    "ax.invert_yaxis()"
   ]
  },
  {
   "cell_type": "code",
   "execution_count": 20,
   "metadata": {},
   "outputs": [
    {
     "data": {
      "image/png": "[encoded data removed]",
      "text/plain": [
       "<Figure size 720x504 with 1 Axes>"
      ]
     },
     "metadata": {
      "needs_background": "light"
     },
     "output_type": "display_data"
    }
   ],
   "source": [
    "ax = data['Weighted Average'].value_counts().plot(kind='bar', figsize=(10,7),\n",
    "                                        color=\"coral\", fontsize=13);\n",
    "ax.set_alpha(0.8)\n",
    "ax.set_title(\"Weighted Averages\", fontsize=18)\n",
    "ax.set_xlabel(\"Seat Number\", fontsize=18);\n",
    "ax.set_yticks([0, 5, 10, 15, 20])\n",
    "\n",
    "# create a list to collect the plt.patches data\n",
    "totals = []\n",
    "\n",
    "# find the values and append to list\n",
    "for i in ax.patches:\n",
    "    totals.append(i.get_height())\n",
    "\n",
    "# set individual bar lables using above list\n",
    "total = sum(totals)\n",
    "\n",
    "# set individual bar lables using above list\n",
    "for i in ax.patches:\n",
    "    # get_x pulls left or right; get_height pushes up or down\n",
    "    ax.text(i.get_x()-.03, i.get_height()+.5, \\\n",
    "            str(round((i.get_height()/total)*100, 2))+'%', fontsize=15,\n",
    "                color='dimgrey')"
   ]
  },
  {
   "cell_type": "code",
   "execution_count": 38,
   "metadata": {},
   "outputs": [
    {
     "data": {
      "text/plain": [
       "<Figure size 1080x720 with 0 Axes>"
      ]
     },
     "metadata": {},
     "output_type": "display_data"
    },
    {
     "data": {
      "image/png": "[encoded data removed]",
      "text/plain": [
       "<Figure size 432x288 with 1 Axes>"
      ]
     },
     "metadata": {
      "needs_background": "light"
     },
     "output_type": "display_data"
    }
   ],
   "source": [
    "import matplotlib\n",
    "import matplotlib.pyplot as plt\n",
    "import numpy as np\n",
    "\n",
    "\n",
    "labels = ['Seat 1', 'Seat 2', 'Seat 3', 'Seat 4', 'Seat 5', 'Seat 6']\n",
    "# seat = [1, 2, 3, 4, 5, 6]\n",
    "weight = [15, 9, 4, 10, 9, 16]\n",
    "\n",
    "x = np.arange(len(labels))  # the label locations\n",
    "width = 0.35  # the width of the bars\n",
    "\n",
    "plt.figure(figsize=(15, 10))\n",
    "# precp_df.plot.line(figsize=(12,8), rot=45, color='purple')\n",
    "fig, ax = plt.subplots()\n",
    "# rects1 = ax.bar(x - width/2, seat, width, label='Seat Number')\n",
    "rects2 = ax.bar(x + width/2, weight, width, label='Weighted Count')\n",
    "\n",
    "# Add some text for labels, title and custom x-axis tick labels, etc.\n",
    "ax.set_ylabel('Weighted Count')\n",
    "ax.set_title('Weighted Count by Seat Number')\n",
    "ax.set_xticks(x)\n",
    "ax.set_xticklabels(labels)\n",
    "ax.legend()\n",
    "\n",
    "\n",
    "def autolabel(rects):\n",
    "    \"\"\"Attach a text label above each bar in *rects*, displaying its height.\"\"\"\n",
    "    for rect in rects:\n",
    "        height = rect.get_height()\n",
    "        ax.annotate('{}'.format(height),\n",
    "                    xy=(rect.get_x() + rect.get_width() / 2, height),\n",
    "                    xytext=(0, 3),  # 3 points vertical offset\n",
    "                    textcoords=\"offset points\",\n",
    "                    ha='center', va='bottom')\n",
    "\n",
    "\n",
    "# autolabel(rects1)\n",
    "autolabel(rects2)\n",
    "\n",
    "fig.tight_layout()\n",
    "\n",
    "\n",
    "\n",
    "plt.show()"
   ]
  },
  {
   "cell_type": "code",
   "execution_count": null,
   "metadata": {},
   "outputs": [],
   "source": [
    "# plot1 = rated_seats[['Seat Number','Weighted Count']].plot(kind='bar', title =\"Weighted Count\", figsize=(15, 10), legend=True, fontsize=12)\n",
    "# plot1.set_xlabel(\"Seat Number\", fontsize=12)\n",
    "# plot1.set_ylabel(\"Weighted Count\", fontsize=12)\n",
    "# plt.show()"
   ]
  },
  {
   "cell_type": "code",
   "execution_count": null,
   "metadata": {},
   "outputs": [],
   "source": [
    "# df2 = df1.groupby(['Seat Number'])\n",
    "# print(df2)\n",
    "# df2 = pd.DataFrame({'key1': [df1.groupby(['Seat Number'])]})\n",
    "# df3 = pd.DataFrame({'key2': [df2.describe()]})\n",
    "# df3"
   ]
  },
  {
   "cell_type": "code",
   "execution_count": null,
   "metadata": {},
   "outputs": [],
   "source": [
    "# plot2 = rated_seats[['Seat Number','Weighted Average']].plot(kind='bar', title =\"Weighted Average\", figsize=(15, 10), legend=True, fontsize=12)\n",
    "# plot2.set_xlabel(\"Seat Number\", fontsize=12)\n",
    "# plot2.set_ylabel(\"Weighted Average\", fontsize=12)\n",
    "# plt.show()"
   ]
  },
  {
   "cell_type": "code",
   "execution_count": null,
   "metadata": {},
   "outputs": [],
   "source": []
  }
 ],
 "metadata": {
  "anaconda-cloud": {},
  "kernel_info": {
   "name": "python3"
  },
  "kernelspec": {
   "display_name": "Python 3",
   "language": "python",
   "name": "python3"
  },
  "language_info": {
   "codemirror_mode": {
    "name": "ipython",
    "version": 3
   },
   "file_extension": ".py",
   "mimetype": "text/x-python",
   "name": "python",
   "nbconvert_exporter": "python",
   "pygments_lexer": "ipython3",
   "version": "3.7.3"
  },
  "nteract": {
   "version": "0.2.0"
  }
 },
 "nbformat": 4,
 "nbformat_minor": 2
}
