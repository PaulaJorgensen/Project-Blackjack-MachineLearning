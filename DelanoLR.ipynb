{
 "cells": [
  {
   "cell_type": "code",
   "execution_count": 1,
   "metadata": {},
   "outputs": [],
   "source": [
    "# Dependencies\n",
    "from matplotlib import pyplot as plt\n",
    "from scipy.stats import linregress\n",
    "import numpy as np\n",
    "import pandas as pd\n"
   ]
  },
  {
   "cell_type": "code",
   "execution_count": 2,
   "metadata": {},
   "outputs": [
    {
     "data": {
      "text/html": [
       "<div>\n",
       "<style scoped>\n",
       "    .dataframe tbody tr th:only-of-type {\n",
       "        vertical-align: middle;\n",
       "    }\n",
       "\n",
       "    .dataframe tbody tr th {\n",
       "        vertical-align: top;\n",
       "    }\n",
       "\n",
       "    .dataframe thead th {\n",
       "        text-align: right;\n",
       "    }\n",
       "</style>\n",
       "<table border=\"1\" class=\"dataframe\">\n",
       "  <thead>\n",
       "    <tr style=\"text-align: right;\">\n",
       "      <th></th>\n",
       "      <th>Unnamed: 0</th>\n",
       "      <th>PlayerNo</th>\n",
       "      <th>card1</th>\n",
       "      <th>card2</th>\n",
       "      <th>card3</th>\n",
       "      <th>card4</th>\n",
       "      <th>card5</th>\n",
       "      <th>sumofcards</th>\n",
       "      <th>dealcard1</th>\n",
       "      <th>dealcard2</th>\n",
       "      <th>...</th>\n",
       "      <th>dealcard4</th>\n",
       "      <th>dealcard5</th>\n",
       "      <th>sumofdeal</th>\n",
       "      <th>blkjck</th>\n",
       "      <th>winloss</th>\n",
       "      <th>plybustbeat</th>\n",
       "      <th>dlbustbeat</th>\n",
       "      <th>plwinamt</th>\n",
       "      <th>dlwinamt</th>\n",
       "      <th>ply2cardsum</th>\n",
       "    </tr>\n",
       "  </thead>\n",
       "  <tbody>\n",
       "    <tr>\n",
       "      <th>0</th>\n",
       "      <td>0</td>\n",
       "      <td>Player1</td>\n",
       "      <td>7</td>\n",
       "      <td>10</td>\n",
       "      <td>0</td>\n",
       "      <td>0</td>\n",
       "      <td>0</td>\n",
       "      <td>17</td>\n",
       "      <td>10</td>\n",
       "      <td>8</td>\n",
       "      <td>...</td>\n",
       "      <td>0</td>\n",
       "      <td>0</td>\n",
       "      <td>18</td>\n",
       "      <td>nowin</td>\n",
       "      <td>Loss</td>\n",
       "      <td>Beat</td>\n",
       "      <td>Dlwin</td>\n",
       "      <td>0</td>\n",
       "      <td>10</td>\n",
       "      <td>17</td>\n",
       "    </tr>\n",
       "    <tr>\n",
       "      <th>1</th>\n",
       "      <td>1</td>\n",
       "      <td>Player2</td>\n",
       "      <td>10</td>\n",
       "      <td>9</td>\n",
       "      <td>0</td>\n",
       "      <td>0</td>\n",
       "      <td>0</td>\n",
       "      <td>19</td>\n",
       "      <td>10</td>\n",
       "      <td>8</td>\n",
       "      <td>...</td>\n",
       "      <td>0</td>\n",
       "      <td>0</td>\n",
       "      <td>18</td>\n",
       "      <td>nowin</td>\n",
       "      <td>Win</td>\n",
       "      <td>Plwin</td>\n",
       "      <td>Beat</td>\n",
       "      <td>20</td>\n",
       "      <td>0</td>\n",
       "      <td>19</td>\n",
       "    </tr>\n",
       "    <tr>\n",
       "      <th>2</th>\n",
       "      <td>2</td>\n",
       "      <td>Player3</td>\n",
       "      <td>9</td>\n",
       "      <td>8</td>\n",
       "      <td>0</td>\n",
       "      <td>0</td>\n",
       "      <td>0</td>\n",
       "      <td>17</td>\n",
       "      <td>10</td>\n",
       "      <td>8</td>\n",
       "      <td>...</td>\n",
       "      <td>0</td>\n",
       "      <td>0</td>\n",
       "      <td>18</td>\n",
       "      <td>nowin</td>\n",
       "      <td>Loss</td>\n",
       "      <td>Beat</td>\n",
       "      <td>Dlwin</td>\n",
       "      <td>0</td>\n",
       "      <td>10</td>\n",
       "      <td>17</td>\n",
       "    </tr>\n",
       "    <tr>\n",
       "      <th>3</th>\n",
       "      <td>3</td>\n",
       "      <td>Player4</td>\n",
       "      <td>2</td>\n",
       "      <td>10</td>\n",
       "      <td>0</td>\n",
       "      <td>5</td>\n",
       "      <td>0</td>\n",
       "      <td>17</td>\n",
       "      <td>10</td>\n",
       "      <td>8</td>\n",
       "      <td>...</td>\n",
       "      <td>0</td>\n",
       "      <td>0</td>\n",
       "      <td>18</td>\n",
       "      <td>nowin</td>\n",
       "      <td>Loss</td>\n",
       "      <td>Beat</td>\n",
       "      <td>Dlwin</td>\n",
       "      <td>0</td>\n",
       "      <td>10</td>\n",
       "      <td>12</td>\n",
       "    </tr>\n",
       "    <tr>\n",
       "      <th>4</th>\n",
       "      <td>4</td>\n",
       "      <td>Player5</td>\n",
       "      <td>10</td>\n",
       "      <td>2</td>\n",
       "      <td>0</td>\n",
       "      <td>5</td>\n",
       "      <td>0</td>\n",
       "      <td>17</td>\n",
       "      <td>10</td>\n",
       "      <td>8</td>\n",
       "      <td>...</td>\n",
       "      <td>0</td>\n",
       "      <td>0</td>\n",
       "      <td>18</td>\n",
       "      <td>nowin</td>\n",
       "      <td>Loss</td>\n",
       "      <td>Beat</td>\n",
       "      <td>Dlwin</td>\n",
       "      <td>0</td>\n",
       "      <td>10</td>\n",
       "      <td>12</td>\n",
       "    </tr>\n",
       "  </tbody>\n",
       "</table>\n",
       "<p>5 rows × 21 columns</p>\n",
       "</div>"
      ],
      "text/plain": [
       "   Unnamed: 0 PlayerNo  card1  card2  card3  card4  card5  sumofcards  \\\n",
       "0           0  Player1      7     10      0      0      0          17   \n",
       "1           1  Player2     10      9      0      0      0          19   \n",
       "2           2  Player3      9      8      0      0      0          17   \n",
       "3           3  Player4      2     10      0      5      0          17   \n",
       "4           4  Player5     10      2      0      5      0          17   \n",
       "\n",
       "   dealcard1  dealcard2  ...  dealcard4  dealcard5  sumofdeal  blkjck winloss  \\\n",
       "0         10          8  ...          0          0         18   nowin    Loss   \n",
       "1         10          8  ...          0          0         18   nowin     Win   \n",
       "2         10          8  ...          0          0         18   nowin    Loss   \n",
       "3         10          8  ...          0          0         18   nowin    Loss   \n",
       "4         10          8  ...          0          0         18   nowin    Loss   \n",
       "\n",
       "  plybustbeat dlbustbeat plwinamt  dlwinamt  ply2cardsum  \n",
       "0        Beat      Dlwin        0        10           17  \n",
       "1       Plwin       Beat       20         0           19  \n",
       "2        Beat      Dlwin        0        10           17  \n",
       "3        Beat      Dlwin        0        10           12  \n",
       "4        Beat      Dlwin        0        10           12  \n",
       "\n",
       "[5 rows x 21 columns]"
      ]
     },
     "execution_count": 2,
     "metadata": {},
     "output_type": "execute_result"
    }
   ],
   "source": [
    "# Load data\n",
    "file = \"https://blackjack-unc-project4.s3.us-east-2.amazonaws.com/BlackJack.csv\"\n",
    "\n",
    "df = pd.read_csv(file)\n",
    "df.head()"
   ]
  },
  {
   "cell_type": "code",
   "execution_count": 12,
   "metadata": {},
   "outputs": [
    {
     "data": {
      "text/html": [
       "<div>\n",
       "<style scoped>\n",
       "    .dataframe tbody tr th:only-of-type {\n",
       "        vertical-align: middle;\n",
       "    }\n",
       "\n",
       "    .dataframe tbody tr th {\n",
       "        vertical-align: top;\n",
       "    }\n",
       "\n",
       "    .dataframe thead th {\n",
       "        text-align: right;\n",
       "    }\n",
       "</style>\n",
       "<table border=\"1\" class=\"dataframe\">\n",
       "  <thead>\n",
       "    <tr style=\"text-align: right;\">\n",
       "      <th></th>\n",
       "      <th>First 2 Cards</th>\n",
       "      <th>Final Winning Hand</th>\n",
       "    </tr>\n",
       "  </thead>\n",
       "  <tbody>\n",
       "    <tr>\n",
       "      <th>1</th>\n",
       "      <td>19</td>\n",
       "      <td>19</td>\n",
       "    </tr>\n",
       "    <tr>\n",
       "      <th>6</th>\n",
       "      <td>14</td>\n",
       "      <td>14</td>\n",
       "    </tr>\n",
       "    <tr>\n",
       "      <th>7</th>\n",
       "      <td>13</td>\n",
       "      <td>13</td>\n",
       "    </tr>\n",
       "    <tr>\n",
       "      <th>8</th>\n",
       "      <td>12</td>\n",
       "      <td>12</td>\n",
       "    </tr>\n",
       "    <tr>\n",
       "      <th>9</th>\n",
       "      <td>15</td>\n",
       "      <td>15</td>\n",
       "    </tr>\n",
       "  </tbody>\n",
       "</table>\n",
       "</div>"
      ],
      "text/plain": [
       "   First 2 Cards  Final Winning Hand\n",
       "1             19                  19\n",
       "6             14                  14\n",
       "7             13                  13\n",
       "8             12                  12\n",
       "9             15                  15"
      ]
     },
     "execution_count": 12,
     "metadata": {},
     "output_type": "execute_result"
    }
   ],
   "source": [
    "# Get first two cards vs total hand and win\n",
    "windf = df['winloss'] == 'Win'\n",
    "wlrdf = df[windf]\n",
    "wlrdf = wlrdf[[\"ply2cardsum\",\"sumofcards\"]]\n",
    "wlrdf = wlrdf.rename(columns={\"ply2cardsum\":\"First 2 Cards\", \"sumofcards\":\"Final Winning Hand\"})\n",
    "wlrdf.head()"
   ]
  },
  {
   "cell_type": "code",
   "execution_count": 26,
   "metadata": {},
   "outputs": [
    {
     "data": {
      "text/html": [
       "<div>\n",
       "<style scoped>\n",
       "    .dataframe tbody tr th:only-of-type {\n",
       "        vertical-align: middle;\n",
       "    }\n",
       "\n",
       "    .dataframe tbody tr th {\n",
       "        vertical-align: top;\n",
       "    }\n",
       "\n",
       "    .dataframe thead th {\n",
       "        text-align: right;\n",
       "    }\n",
       "</style>\n",
       "<table border=\"1\" class=\"dataframe\">\n",
       "  <thead>\n",
       "    <tr style=\"text-align: right;\">\n",
       "      <th></th>\n",
       "      <th>First 2 Cards</th>\n",
       "      <th>Win Count</th>\n",
       "    </tr>\n",
       "  </thead>\n",
       "  <tbody>\n",
       "    <tr>\n",
       "      <th>0</th>\n",
       "      <td>2</td>\n",
       "      <td>524</td>\n",
       "    </tr>\n",
       "    <tr>\n",
       "      <th>1</th>\n",
       "      <td>3</td>\n",
       "      <td>1241</td>\n",
       "    </tr>\n",
       "    <tr>\n",
       "      <th>2</th>\n",
       "      <td>4</td>\n",
       "      <td>3336</td>\n",
       "    </tr>\n",
       "    <tr>\n",
       "      <th>3</th>\n",
       "      <td>5</td>\n",
       "      <td>5327</td>\n",
       "    </tr>\n",
       "    <tr>\n",
       "      <th>4</th>\n",
       "      <td>6</td>\n",
       "      <td>7123</td>\n",
       "    </tr>\n",
       "  </tbody>\n",
       "</table>\n",
       "</div>"
      ],
      "text/plain": [
       "   First 2 Cards  Win Count\n",
       "0              2        524\n",
       "1              3       1241\n",
       "2              4       3336\n",
       "3              5       5327\n",
       "4              6       7123"
      ]
     },
     "execution_count": 26,
     "metadata": {},
     "output_type": "execute_result"
    }
   ],
   "source": [
    "wgbdf = wlrdf.groupby(['First 2 Cards'],as_index=False).count()\n",
    "wgbdf = wgbdf.rename(columns={\"First 2 Cards\":\"First 2 Cards\", \"Final Winning Hand\":\"Win Count\"})\n",
    "wgbdf.head()"
   ]
  },
  {
   "cell_type": "code",
   "execution_count": 5,
   "metadata": {},
   "outputs": [
    {
     "data": {
      "text/html": [
       "<div>\n",
       "<style scoped>\n",
       "    .dataframe tbody tr th:only-of-type {\n",
       "        vertical-align: middle;\n",
       "    }\n",
       "\n",
       "    .dataframe tbody tr th {\n",
       "        vertical-align: top;\n",
       "    }\n",
       "\n",
       "    .dataframe thead th {\n",
       "        text-align: right;\n",
       "    }\n",
       "</style>\n",
       "<table border=\"1\" class=\"dataframe\">\n",
       "  <thead>\n",
       "    <tr style=\"text-align: right;\">\n",
       "      <th></th>\n",
       "      <th>First 2 Cards</th>\n",
       "      <th>Final Losing Hand</th>\n",
       "    </tr>\n",
       "  </thead>\n",
       "  <tbody>\n",
       "    <tr>\n",
       "      <th>0</th>\n",
       "      <td>17</td>\n",
       "      <td>17</td>\n",
       "    </tr>\n",
       "    <tr>\n",
       "      <th>2</th>\n",
       "      <td>17</td>\n",
       "      <td>17</td>\n",
       "    </tr>\n",
       "    <tr>\n",
       "      <th>3</th>\n",
       "      <td>12</td>\n",
       "      <td>17</td>\n",
       "    </tr>\n",
       "    <tr>\n",
       "      <th>4</th>\n",
       "      <td>12</td>\n",
       "      <td>17</td>\n",
       "    </tr>\n",
       "    <tr>\n",
       "      <th>5</th>\n",
       "      <td>7</td>\n",
       "      <td>25</td>\n",
       "    </tr>\n",
       "  </tbody>\n",
       "</table>\n",
       "</div>"
      ],
      "text/plain": [
       "   First 2 Cards  Final Losing Hand\n",
       "0             17                 17\n",
       "2             17                 17\n",
       "3             12                 17\n",
       "4             12                 17\n",
       "5              7                 25"
      ]
     },
     "execution_count": 5,
     "metadata": {},
     "output_type": "execute_result"
    }
   ],
   "source": [
    "# Get first two cards vs total hand and loss\n",
    "lossdf = df['winloss'] == 'Loss'\n",
    "llrdf = df[lossdf]\n",
    "llrdf = llrdf[[\"ply2cardsum\",\"sumofcards\"]]\n",
    "llrdf = llrdf.rename(columns={\"ply2cardsum\":\"First 2 Cards\", \"sumofcards\":\"Final Losing Hand\"})\n",
    "llrdf.head()"
   ]
  },
  {
   "cell_type": "code",
   "execution_count": 34,
   "metadata": {},
   "outputs": [
    {
     "data": {
      "text/html": [
       "<div>\n",
       "<style scoped>\n",
       "    .dataframe tbody tr th:only-of-type {\n",
       "        vertical-align: middle;\n",
       "    }\n",
       "\n",
       "    .dataframe tbody tr th {\n",
       "        vertical-align: top;\n",
       "    }\n",
       "\n",
       "    .dataframe thead th {\n",
       "        text-align: right;\n",
       "    }\n",
       "</style>\n",
       "<table border=\"1\" class=\"dataframe\">\n",
       "  <thead>\n",
       "    <tr style=\"text-align: right;\">\n",
       "      <th></th>\n",
       "      <th>First 2 Cards</th>\n",
       "      <th>Loss Count</th>\n",
       "    </tr>\n",
       "  </thead>\n",
       "  <tbody>\n",
       "    <tr>\n",
       "      <th>0</th>\n",
       "      <td>2</td>\n",
       "      <td>984</td>\n",
       "    </tr>\n",
       "    <tr>\n",
       "      <th>1</th>\n",
       "      <td>3</td>\n",
       "      <td>2609</td>\n",
       "    </tr>\n",
       "    <tr>\n",
       "      <th>2</th>\n",
       "      <td>4</td>\n",
       "      <td>6320</td>\n",
       "    </tr>\n",
       "    <tr>\n",
       "      <th>3</th>\n",
       "      <td>5</td>\n",
       "      <td>10350</td>\n",
       "    </tr>\n",
       "    <tr>\n",
       "      <th>4</th>\n",
       "      <td>6</td>\n",
       "      <td>13808</td>\n",
       "    </tr>\n",
       "  </tbody>\n",
       "</table>\n",
       "</div>"
      ],
      "text/plain": [
       "   First 2 Cards  Loss Count\n",
       "0              2         984\n",
       "1              3        2609\n",
       "2              4        6320\n",
       "3              5       10350\n",
       "4              6       13808"
      ]
     },
     "execution_count": 34,
     "metadata": {},
     "output_type": "execute_result"
    }
   ],
   "source": [
    "lgbdf = llrdf.groupby(['First 2 Cards'],as_index=False).count()\n",
    "lgbdf = lgbdf.rename(columns={\"First 2 Cards\":\"First 2 Cards\", \"Final Losing Hand\":\"Loss Count\"})\n",
    "lgbdf.head()"
   ]
  },
  {
   "cell_type": "code",
   "execution_count": 7,
   "metadata": {},
   "outputs": [
    {
     "data": {
      "image/png": "[encoded data removed]",
      "text/plain": [
       "<Figure size 432x288 with 1 Axes>"
      ]
     },
     "metadata": {
      "needs_background": "light"
     },
     "output_type": "display_data"
    }
   ],
   "source": [
    "# Get LR variables\n",
    "firsttwo = wlrdf.iloc[:, 0]\n",
    "total = wlrdf.iloc[:,1]\n",
    "\n",
    "# Set line\n",
    "(slope, intercept, _, _, _) = linregress(firsttwo, total)\n",
    "fit = slope * firsttwo + intercept\n",
    "fit\n",
    "\n",
    "# Plot data\n",
    "fig, ax = plt.subplots()\n",
    "\n",
    "fig.suptitle(\"Deal Hand vs Final Hand w/ Win\", fontsize=16, fontweight=\"bold\")\n",
    "\n",
    "ax.set_xlim(0, 21)\n",
    "ax.set_ylim(0, 27)\n",
    "\n",
    "ax.set_xlabel(\"Deal Hand\")\n",
    "ax.set_ylabel(\"Final Hand\")\n",
    "\n",
    "ax.plot(firsttwo, total, linewidth=0, marker='o')\n",
    "ax.plot(firsttwo, fit, 'b--')\n",
    "\n",
    "plt.show()"
   ]
  },
  {
   "cell_type": "code",
   "execution_count": 32,
   "metadata": {},
   "outputs": [
    {
     "data": {
      "image/png": "[encoded data removed]",
      "text/plain": [
       "<Figure size 432x288 with 1 Axes>"
      ]
     },
     "metadata": {
      "needs_background": "light"
     },
     "output_type": "display_data"
    }
   ],
   "source": [
    "# Win count based on first two cards\n",
    "\n",
    "wgbdf.plot(kind='line',x='First 2 Cards',y='Win Count',color='blue')\n",
    "plt.show()"
   ]
  },
  {
   "cell_type": "code",
   "execution_count": 8,
   "metadata": {},
   "outputs": [
    {
     "data": {
      "image/png": "[encoded data removed]",
      "text/plain": [
       "<Figure size 432x288 with 1 Axes>"
      ]
     },
     "metadata": {
      "needs_background": "light"
     },
     "output_type": "display_data"
    }
   ],
   "source": [
    "# Get LR variables\n",
    "firsttwo = llrdf.iloc[:, 0]\n",
    "total = llrdf.iloc[:,1]\n",
    "\n",
    "# Set line\n",
    "(slope, intercept, _, _, _) = linregress(firsttwo, total)\n",
    "fit = slope * firsttwo + intercept\n",
    "fit\n",
    "\n",
    "# Plot data\n",
    "fig, ax = plt.subplots()\n",
    "\n",
    "fig.suptitle(\"Deal Hand vs Final Hand w/ Loss\", fontsize=16, fontweight=\"bold\")\n",
    "\n",
    "ax.set_xlim(0, 21)\n",
    "ax.set_ylim(0, 27)\n",
    "\n",
    "ax.set_xlabel(\"Deal Hand\")\n",
    "ax.set_ylabel(\"Final Hand\")\n",
    "\n",
    "ax.plot(firsttwo, total, linewidth=0, marker='o')\n",
    "ax.plot(firsttwo, fit, 'b--')\n",
    "\n",
    "plt.show()"
   ]
  },
  {
   "cell_type": "code",
   "execution_count": 35,
   "metadata": {},
   "outputs": [
    {
     "data": {
      "image/png": "[encoded data removed]",
      "text/plain": [
       "<Figure size 432x288 with 1 Axes>"
      ]
     },
     "metadata": {
      "needs_background": "light"
     },
     "output_type": "display_data"
    }
   ],
   "source": [
    "# Loss count based on first two cards\n",
    "\n",
    "lgbdf.plot(kind='line',x='First 2 Cards',y='Loss Count',color='blue')\n",
    "plt.show()"
   ]
  },
  {
   "cell_type": "code",
   "execution_count": null,
   "metadata": {},
   "outputs": [],
   "source": []
  }
 ],
 "metadata": {
  "kernelspec": {
   "display_name": "Python 3",
   "language": "python",
   "name": "python3"
  },
  "language_info": {
   "codemirror_mode": {
    "name": "ipython",
    "version": 3
   },
   "file_extension": ".py",
   "mimetype": "text/x-python",
   "name": "python",
   "nbconvert_exporter": "python",
   "pygments_lexer": "ipython3",
   "version": "3.7.3"
  }
 },
 "nbformat": 4,
 "nbformat_minor": 2
}
